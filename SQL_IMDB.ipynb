{
  "nbformat": 4,
  "nbformat_minor": 0,
  "metadata": {
    "accelerator": "GPU",
    "colab": {
      "name": "SQL_IMDB.ipynb",
      "provenance": [],
      "collapsed_sections": [
        "l8shROhe-QLY",
        "1dTX8Rj8-QLm",
        "a4RakTNt-QL3",
        "dLudV2_i-QMJ"
      ],
      "machine_shape": "hm"
    },
    "kernelspec": {
      "display_name": "Python 3",
      "language": "python",
      "name": "python3"
    },
    "language_info": {
      "codemirror_mode": {
        "name": "ipython",
        "version": 3
      },
      "file_extension": ".py",
      "mimetype": "text/x-python",
      "name": "python",
      "nbconvert_exporter": "python",
      "pygments_lexer": "ipython3",
      "version": "3.7.3"
    }
  },
  "cells": [
    {
      "cell_type": "code",
      "metadata": {
        "colab_type": "code",
        "id": "pV8RMbb8-QJO",
        "colab": {}
      },
      "source": [
        "#                    -------------------- SQL on IMBD --------------------"
      ],
      "execution_count": 0,
      "outputs": []
    },
    {
      "cell_type": "code",
      "metadata": {
        "id": "zU0RwcF0vCdG",
        "colab_type": "code",
        "colab": {}
      },
      "source": [
        "from PIL import Image\n",
        "\n",
        "# image_file = 'drive/My Drive/IMDB SQL/db_schema.jpeg'\n",
        "\n",
        "image_file = 'db_schema.jpeg'\n",
        "\n",
        "with Image.open(image_file) as image:\n",
        "    width, height = image.size"
      ],
      "execution_count": 0,
      "outputs": []
    },
    {
      "cell_type": "code",
      "metadata": {
        "colab_type": "code",
        "id": "u3MbtyXB-QJZ",
        "colab": {},
        "outputId": "8c08a51a-3ff5-4ddd-e391-43e04c0e4bb7"
      },
      "source": [
        "from IPython.display import Image\n",
        "Image('db_schema.jpeg')\n",
        "print()\n",
        "print('*'*61)\n",
        "print(\"Below is the image which displays the tables and it's columns\")\n",
        "print('*'*61)"
      ],
      "execution_count": 0,
      "outputs": [
        {
          "output_type": "stream",
          "text": [
            "\n",
            "*************************************************************\n",
            "Below is the image which displays the tables and it's columns\n",
            "*************************************************************\n"
          ],
          "name": "stdout"
        }
      ]
    },
    {
      "cell_type": "markdown",
      "metadata": {
        "id": "Q1s8Mr90vCdk",
        "colab_type": "text"
      },
      "source": [
        "### Source Links\n",
        "\n",
        " - https://www.appliedaicourse.com/   \n",
        " - https://www.w3schools.com/sql/default.asp\n",
        " - https://www.w3resource.com/sql-exercises/movie-database-exercise/joins-exercises-on-movie-database.php"
      ]
    },
    {
      "cell_type": "code",
      "metadata": {
        "colab_type": "code",
        "id": "0n-BHGO8-QJd",
        "colab": {}
      },
      "source": [
        "import numpy as np\n",
        "import pandas as pd\n",
        "import sqlite3"
      ],
      "execution_count": 0,
      "outputs": []
    },
    {
      "cell_type": "code",
      "metadata": {
        "colab_type": "code",
        "id": "3CGSnhtc-fzT",
        "colab": {}
      },
      "source": [
        "# Create a connection with database\n",
        "con = sqlite3.connect('Db-IMDB.db')\n",
        "\n",
        "# Load all the table\n",
        "table = pd.read_sql_query(\"SELECT * FROM sqlite_master WHERE type = 'table'\", con)"
      ],
      "execution_count": 0,
      "outputs": []
    },
    {
      "cell_type": "code",
      "metadata": {
        "colab_type": "code",
        "id": "w305XttT-SRc",
        "colab": {}
      },
      "source": [
        "# Create a connection with database\n",
        "con = sqlite3.connect('Db-IMDB.db')\n",
        "\n",
        "# Load all the table\n",
        "table = pd.read_sql_query(\"SELECT * FROM sqlite_master WHERE type = 'table'\", con)"
      ],
      "execution_count": 0,
      "outputs": []
    },
    {
      "cell_type": "code",
      "metadata": {
        "colab_type": "code",
        "id": "NP5x8sfA-QJh",
        "outputId": "7ac34150-172d-4bcb-9819-7583a8bf9bb1",
        "colab": {
          "base_uri": "https://localhost:8080/",
          "height": 483
        }
      },
      "source": [
        "table"
      ],
      "execution_count": 0,
      "outputs": [
        {
          "output_type": "execute_result",
          "data": {
            "text/html": [
              "<div>\n",
              "<style scoped>\n",
              "    .dataframe tbody tr th:only-of-type {\n",
              "        vertical-align: middle;\n",
              "    }\n",
              "\n",
              "    .dataframe tbody tr th {\n",
              "        vertical-align: top;\n",
              "    }\n",
              "\n",
              "    .dataframe thead th {\n",
              "        text-align: right;\n",
              "    }\n",
              "</style>\n",
              "<table border=\"1\" class=\"dataframe\">\n",
              "  <thead>\n",
              "    <tr style=\"text-align: right;\">\n",
              "      <th></th>\n",
              "      <th>type</th>\n",
              "      <th>name</th>\n",
              "      <th>tbl_name</th>\n",
              "      <th>rootpage</th>\n",
              "      <th>sql</th>\n",
              "    </tr>\n",
              "  </thead>\n",
              "  <tbody>\n",
              "    <tr>\n",
              "      <td>0</td>\n",
              "      <td>table</td>\n",
              "      <td>Movie</td>\n",
              "      <td>Movie</td>\n",
              "      <td>2</td>\n",
              "      <td>CREATE TABLE \"Movie\" (\\n\"index\" INTEGER,\\n  \"M...</td>\n",
              "    </tr>\n",
              "    <tr>\n",
              "      <td>1</td>\n",
              "      <td>table</td>\n",
              "      <td>Genre</td>\n",
              "      <td>Genre</td>\n",
              "      <td>4</td>\n",
              "      <td>CREATE TABLE \"Genre\" (\\n\"index\" INTEGER,\\n  \"N...</td>\n",
              "    </tr>\n",
              "    <tr>\n",
              "      <td>2</td>\n",
              "      <td>table</td>\n",
              "      <td>Language</td>\n",
              "      <td>Language</td>\n",
              "      <td>5</td>\n",
              "      <td>CREATE TABLE \"Language\" (\\n\"index\" INTEGER,\\n ...</td>\n",
              "    </tr>\n",
              "    <tr>\n",
              "      <td>3</td>\n",
              "      <td>table</td>\n",
              "      <td>Country</td>\n",
              "      <td>Country</td>\n",
              "      <td>6</td>\n",
              "      <td>CREATE TABLE \"Country\" (\\n\"index\" INTEGER,\\n  ...</td>\n",
              "    </tr>\n",
              "    <tr>\n",
              "      <td>4</td>\n",
              "      <td>table</td>\n",
              "      <td>Location</td>\n",
              "      <td>Location</td>\n",
              "      <td>7</td>\n",
              "      <td>CREATE TABLE \"Location\" (\\n\"index\" INTEGER,\\n ...</td>\n",
              "    </tr>\n",
              "    <tr>\n",
              "      <td>5</td>\n",
              "      <td>table</td>\n",
              "      <td>M_Location</td>\n",
              "      <td>M_Location</td>\n",
              "      <td>11</td>\n",
              "      <td>CREATE TABLE \"M_Location\" (\\n\"index\" INTEGER,\\...</td>\n",
              "    </tr>\n",
              "    <tr>\n",
              "      <td>6</td>\n",
              "      <td>table</td>\n",
              "      <td>M_Country</td>\n",
              "      <td>M_Country</td>\n",
              "      <td>10</td>\n",
              "      <td>CREATE TABLE \"M_Country\" (\\n\"index\" INTEGER,\\n...</td>\n",
              "    </tr>\n",
              "    <tr>\n",
              "      <td>7</td>\n",
              "      <td>table</td>\n",
              "      <td>M_Language</td>\n",
              "      <td>M_Language</td>\n",
              "      <td>9</td>\n",
              "      <td>CREATE TABLE \"M_Language\" (\\n\"index\" INTEGER,\\...</td>\n",
              "    </tr>\n",
              "    <tr>\n",
              "      <td>8</td>\n",
              "      <td>table</td>\n",
              "      <td>M_Genre</td>\n",
              "      <td>M_Genre</td>\n",
              "      <td>8</td>\n",
              "      <td>CREATE TABLE \"M_Genre\" (\\n\"index\" INTEGER,\\n  ...</td>\n",
              "    </tr>\n",
              "    <tr>\n",
              "      <td>9</td>\n",
              "      <td>table</td>\n",
              "      <td>Person</td>\n",
              "      <td>Person</td>\n",
              "      <td>12</td>\n",
              "      <td>CREATE TABLE \"Person\" (\\n\"index\" INTEGER,\\n  \"...</td>\n",
              "    </tr>\n",
              "    <tr>\n",
              "      <td>10</td>\n",
              "      <td>table</td>\n",
              "      <td>M_Producer</td>\n",
              "      <td>M_Producer</td>\n",
              "      <td>14</td>\n",
              "      <td>CREATE TABLE \"M_Producer\" (\\n\"index\" INTEGER,\\...</td>\n",
              "    </tr>\n",
              "    <tr>\n",
              "      <td>11</td>\n",
              "      <td>table</td>\n",
              "      <td>M_Director</td>\n",
              "      <td>M_Director</td>\n",
              "      <td>15</td>\n",
              "      <td>CREATE TABLE \"M_Director\" (\\n\"index\" INTEGER,\\...</td>\n",
              "    </tr>\n",
              "    <tr>\n",
              "      <td>12</td>\n",
              "      <td>table</td>\n",
              "      <td>M_Cast</td>\n",
              "      <td>M_Cast</td>\n",
              "      <td>16</td>\n",
              "      <td>CREATE TABLE \"M_Cast\" (\\n\"index\" INTEGER,\\n  \"...</td>\n",
              "    </tr>\n",
              "  </tbody>\n",
              "</table>\n",
              "</div>"
            ],
            "text/plain": [
              "     type        name    tbl_name  rootpage  \\\n",
              "0   table       Movie       Movie         2   \n",
              "1   table       Genre       Genre         4   \n",
              "2   table    Language    Language         5   \n",
              "3   table     Country     Country         6   \n",
              "4   table    Location    Location         7   \n",
              "5   table  M_Location  M_Location        11   \n",
              "6   table   M_Country   M_Country        10   \n",
              "7   table  M_Language  M_Language         9   \n",
              "8   table     M_Genre     M_Genre         8   \n",
              "9   table      Person      Person        12   \n",
              "10  table  M_Producer  M_Producer        14   \n",
              "11  table  M_Director  M_Director        15   \n",
              "12  table      M_Cast      M_Cast        16   \n",
              "\n",
              "                                                  sql  \n",
              "0   CREATE TABLE \"Movie\" (\\n\"index\" INTEGER,\\n  \"M...  \n",
              "1   CREATE TABLE \"Genre\" (\\n\"index\" INTEGER,\\n  \"N...  \n",
              "2   CREATE TABLE \"Language\" (\\n\"index\" INTEGER,\\n ...  \n",
              "3   CREATE TABLE \"Country\" (\\n\"index\" INTEGER,\\n  ...  \n",
              "4   CREATE TABLE \"Location\" (\\n\"index\" INTEGER,\\n ...  \n",
              "5   CREATE TABLE \"M_Location\" (\\n\"index\" INTEGER,\\...  \n",
              "6   CREATE TABLE \"M_Country\" (\\n\"index\" INTEGER,\\n...  \n",
              "7   CREATE TABLE \"M_Language\" (\\n\"index\" INTEGER,\\...  \n",
              "8   CREATE TABLE \"M_Genre\" (\\n\"index\" INTEGER,\\n  ...  \n",
              "9   CREATE TABLE \"Person\" (\\n\"index\" INTEGER,\\n  \"...  \n",
              "10  CREATE TABLE \"M_Producer\" (\\n\"index\" INTEGER,\\...  \n",
              "11  CREATE TABLE \"M_Director\" (\\n\"index\" INTEGER,\\...  \n",
              "12  CREATE TABLE \"M_Cast\" (\\n\"index\" INTEGER,\\n  \"...  "
            ]
          },
          "metadata": {
            "tags": []
          },
          "execution_count": 78
        }
      ]
    },
    {
      "cell_type": "code",
      "metadata": {
        "colab_type": "code",
        "id": "7z6AzO1jrvZI",
        "outputId": "d2decefd-f0fb-4003-ede2-f0ff71d7eaf9",
        "colab": {
          "base_uri": "https://localhost:8080/",
          "height": 204
        }
      },
      "source": [
        "print(\"Type: table\\n\")\n",
        "print(\"Number of unique names:\", table['name'].nunique(), '\\n')\n",
        "print(\"Number of unique table names:\", table['tbl_name'].nunique(), '\\n')\n",
        "print(\"Unique names:\\n\")\n",
        "print(table['name'].unique())"
      ],
      "execution_count": 0,
      "outputs": [
        {
          "output_type": "stream",
          "text": [
            "Type: table\n",
            "\n",
            "Number of unique names: 13 \n",
            "\n",
            "Number of unique table names: 13 \n",
            "\n",
            "Unique names:\n",
            "\n",
            "['Movie' 'Genre' 'Language' 'Country' 'Location' 'M_Location' 'M_Country'\n",
            " 'M_Language' 'M_Genre' 'Person' 'M_Producer' 'M_Director' 'M_Cast']\n"
          ],
          "name": "stdout"
        }
      ]
    },
    {
      "cell_type": "code",
      "metadata": {
        "colab_type": "code",
        "id": "iiJJnpxh-QJt",
        "outputId": "f195940e-e961-4856-ea5b-b950c3807e78",
        "colab": {
          "base_uri": "https://localhost:8080/",
          "height": 534
        }
      },
      "source": [
        "print(\"\\nDistinct tables are\\n\")\n",
        "\n",
        "pd.read_sql_query(\"SELECT DISTINCT tbl_name FROM sqlite_master WHERE type = 'table'\", con)\n"
      ],
      "execution_count": 0,
      "outputs": [
        {
          "output_type": "stream",
          "text": [
            "\n",
            "Distinct tables are\n",
            "\n"
          ],
          "name": "stdout"
        },
        {
          "output_type": "execute_result",
          "data": {
            "text/html": [
              "<div>\n",
              "<style scoped>\n",
              "    .dataframe tbody tr th:only-of-type {\n",
              "        vertical-align: middle;\n",
              "    }\n",
              "\n",
              "    .dataframe tbody tr th {\n",
              "        vertical-align: top;\n",
              "    }\n",
              "\n",
              "    .dataframe thead th {\n",
              "        text-align: right;\n",
              "    }\n",
              "</style>\n",
              "<table border=\"1\" class=\"dataframe\">\n",
              "  <thead>\n",
              "    <tr style=\"text-align: right;\">\n",
              "      <th></th>\n",
              "      <th>tbl_name</th>\n",
              "    </tr>\n",
              "  </thead>\n",
              "  <tbody>\n",
              "    <tr>\n",
              "      <td>0</td>\n",
              "      <td>Movie</td>\n",
              "    </tr>\n",
              "    <tr>\n",
              "      <td>1</td>\n",
              "      <td>Genre</td>\n",
              "    </tr>\n",
              "    <tr>\n",
              "      <td>2</td>\n",
              "      <td>Language</td>\n",
              "    </tr>\n",
              "    <tr>\n",
              "      <td>3</td>\n",
              "      <td>Country</td>\n",
              "    </tr>\n",
              "    <tr>\n",
              "      <td>4</td>\n",
              "      <td>Location</td>\n",
              "    </tr>\n",
              "    <tr>\n",
              "      <td>5</td>\n",
              "      <td>M_Location</td>\n",
              "    </tr>\n",
              "    <tr>\n",
              "      <td>6</td>\n",
              "      <td>M_Country</td>\n",
              "    </tr>\n",
              "    <tr>\n",
              "      <td>7</td>\n",
              "      <td>M_Language</td>\n",
              "    </tr>\n",
              "    <tr>\n",
              "      <td>8</td>\n",
              "      <td>M_Genre</td>\n",
              "    </tr>\n",
              "    <tr>\n",
              "      <td>9</td>\n",
              "      <td>Person</td>\n",
              "    </tr>\n",
              "    <tr>\n",
              "      <td>10</td>\n",
              "      <td>M_Producer</td>\n",
              "    </tr>\n",
              "    <tr>\n",
              "      <td>11</td>\n",
              "      <td>M_Director</td>\n",
              "    </tr>\n",
              "    <tr>\n",
              "      <td>12</td>\n",
              "      <td>M_Cast</td>\n",
              "    </tr>\n",
              "  </tbody>\n",
              "</table>\n",
              "</div>"
            ],
            "text/plain": [
              "      tbl_name\n",
              "0        Movie\n",
              "1        Genre\n",
              "2     Language\n",
              "3      Country\n",
              "4     Location\n",
              "5   M_Location\n",
              "6    M_Country\n",
              "7   M_Language\n",
              "8      M_Genre\n",
              "9       Person\n",
              "10  M_Producer\n",
              "11  M_Director\n",
              "12      M_Cast"
            ]
          },
          "metadata": {
            "tags": []
          },
          "execution_count": 80
        }
      ]
    },
    {
      "cell_type": "code",
      "metadata": {
        "id": "HMEQsU_uvCep",
        "colab_type": "code",
        "colab": {},
        "outputId": "a7c9771a-e662-490b-9e70-debd9c73b8b4"
      },
      "source": [
        "# We will check if the year feature has no odd values.\n",
        "\n",
        "pd.read_sql_query(\"SELECT DISTINCT YEAR FROM MOVIE\", con)"
      ],
      "execution_count": 0,
      "outputs": [
        {
          "output_type": "execute_result",
          "data": {
            "text/html": [
              "<div>\n",
              "<style scoped>\n",
              "    .dataframe tbody tr th:only-of-type {\n",
              "        vertical-align: middle;\n",
              "    }\n",
              "\n",
              "    .dataframe tbody tr th {\n",
              "        vertical-align: top;\n",
              "    }\n",
              "\n",
              "    .dataframe thead th {\n",
              "        text-align: right;\n",
              "    }\n",
              "</style>\n",
              "<table border=\"1\" class=\"dataframe\">\n",
              "  <thead>\n",
              "    <tr style=\"text-align: right;\">\n",
              "      <th></th>\n",
              "      <th>year</th>\n",
              "    </tr>\n",
              "  </thead>\n",
              "  <tbody>\n",
              "    <tr>\n",
              "      <td>0</td>\n",
              "      <td>2018</td>\n",
              "    </tr>\n",
              "    <tr>\n",
              "      <td>1</td>\n",
              "      <td>2012</td>\n",
              "    </tr>\n",
              "    <tr>\n",
              "      <td>2</td>\n",
              "      <td>2016</td>\n",
              "    </tr>\n",
              "    <tr>\n",
              "      <td>3</td>\n",
              "      <td>2017</td>\n",
              "    </tr>\n",
              "    <tr>\n",
              "      <td>4</td>\n",
              "      <td>2008</td>\n",
              "    </tr>\n",
              "    <tr>\n",
              "      <td>...</td>\n",
              "      <td>...</td>\n",
              "    </tr>\n",
              "    <tr>\n",
              "      <td>120</td>\n",
              "      <td>IV 2017</td>\n",
              "    </tr>\n",
              "    <tr>\n",
              "      <td>121</td>\n",
              "      <td>1943</td>\n",
              "    </tr>\n",
              "    <tr>\n",
              "      <td>122</td>\n",
              "      <td>1950</td>\n",
              "    </tr>\n",
              "    <tr>\n",
              "      <td>123</td>\n",
              "      <td>I 1969</td>\n",
              "    </tr>\n",
              "    <tr>\n",
              "      <td>124</td>\n",
              "      <td>II 2009</td>\n",
              "    </tr>\n",
              "  </tbody>\n",
              "</table>\n",
              "<p>125 rows × 1 columns</p>\n",
              "</div>"
            ],
            "text/plain": [
              "        year\n",
              "0       2018\n",
              "1       2012\n",
              "2       2016\n",
              "3       2017\n",
              "4       2008\n",
              "..       ...\n",
              "120  IV 2017\n",
              "121     1943\n",
              "122     1950\n",
              "123   I 1969\n",
              "124  II 2009\n",
              "\n",
              "[125 rows x 1 columns]"
            ]
          },
          "metadata": {
            "tags": []
          },
          "execution_count": 81
        }
      ]
    },
    {
      "cell_type": "markdown",
      "metadata": {
        "id": "5sPduvHjvCex",
        "colab_type": "text"
      },
      "source": [
        "Removing Roman Numerals from year column"
      ]
    },
    {
      "cell_type": "code",
      "metadata": {
        "id": "yve_8nKavCez",
        "colab_type": "code",
        "colab": {},
        "outputId": "ce6e41fc-cd5a-4e8a-9d65-aa4e7fd797ba"
      },
      "source": [
        "rom_year = pd.read_sql_query(\"select year from Movie where year LIKE '%I%'\", con)\n",
        "rom_year.head(5)"
      ],
      "execution_count": 0,
      "outputs": [
        {
          "output_type": "execute_result",
          "data": {
            "text/html": [
              "<div>\n",
              "<style scoped>\n",
              "    .dataframe tbody tr th:only-of-type {\n",
              "        vertical-align: middle;\n",
              "    }\n",
              "\n",
              "    .dataframe tbody tr th {\n",
              "        vertical-align: top;\n",
              "    }\n",
              "\n",
              "    .dataframe thead th {\n",
              "        text-align: right;\n",
              "    }\n",
              "</style>\n",
              "<table border=\"1\" class=\"dataframe\">\n",
              "  <thead>\n",
              "    <tr style=\"text-align: right;\">\n",
              "      <th></th>\n",
              "      <th>year</th>\n",
              "    </tr>\n",
              "  </thead>\n",
              "  <tbody>\n",
              "    <tr>\n",
              "      <td>0</td>\n",
              "      <td>I 2009</td>\n",
              "    </tr>\n",
              "    <tr>\n",
              "      <td>1</td>\n",
              "      <td>I 2018</td>\n",
              "    </tr>\n",
              "    <tr>\n",
              "      <td>2</td>\n",
              "      <td>XVII 2016</td>\n",
              "    </tr>\n",
              "    <tr>\n",
              "      <td>3</td>\n",
              "      <td>I 2017</td>\n",
              "    </tr>\n",
              "    <tr>\n",
              "      <td>4</td>\n",
              "      <td>II 2018</td>\n",
              "    </tr>\n",
              "  </tbody>\n",
              "</table>\n",
              "</div>"
            ],
            "text/plain": [
              "        year\n",
              "0     I 2009\n",
              "1     I 2018\n",
              "2  XVII 2016\n",
              "3     I 2017\n",
              "4    II 2018"
            ]
          },
          "metadata": {
            "tags": []
          },
          "execution_count": 82
        }
      ]
    },
    {
      "cell_type": "markdown",
      "metadata": {
        "id": "7V51r6dRvCe7",
        "colab_type": "text"
      },
      "source": [
        "## Observations:\n",
        "\n",
        "1.We can see few odd values such as 'IV 2011' instead of 2011, 'II 1983' instead of 1983, etc.\n",
        "2.We will use 'SUBSTRING' to get only year."
      ]
    },
    {
      "cell_type": "markdown",
      "metadata": {
        "colab_type": "text",
        "id": "iBVubJmj-QKG"
      },
      "source": [
        "# Assignment"
      ]
    },
    {
      "cell_type": "markdown",
      "metadata": {
        "id": "wYypoeiMvCfA",
        "colab_type": "text"
      },
      "source": [
        "1.List all the directors who directed a 'Comedy' movie in a leap year. (You need to check that the genre is 'Comedy’ and year is a leap year) Your query should return director name, the movie name, and the year."
      ]
    },
    {
      "cell_type": "code",
      "metadata": {
        "id": "FVJ39WsmvCfC",
        "colab_type": "code",
        "colab": {},
        "outputId": "58bab5c1-3d1a-4d63-88c1-5d450b7a1ca9"
      },
      "source": [
        "rows = pd.read_sql_query('''select Name,title,year from Person p join M_Director md on p.PID = md.PID join Movie m on m.MID = md.MID where m.MID in\n",
        "                            (select MID from Movie where (year%4=0 and year%100!=0) and (year%4=0 or year%100=0 and year%400=0) and MID in\n",
        "                            (select MID from M_Genre where GID in(select GID from Genre where Name LIKE '%comedy%')))''', conn)\n",
        "print(rows.head(10))"
      ],
      "execution_count": 0,
      "outputs": [
        {
          "output_type": "stream",
          "text": [
            "              Name                              title  year\n",
            "0     Milap Zaveri                         Mastizaade  2016\n",
            "1     Milap Zaveri                         Mastizaade  2016\n",
            "2     Danny Leiner  Harold & Kumar Go to White Castle  2004\n",
            "3     Danny Leiner  Harold & Kumar Go to White Castle  2004\n",
            "4   Anurag Kashyap                 Gangs of Wasseypur  2012\n",
            "5   Anurag Kashyap                 Gangs of Wasseypur  2012\n",
            "6     Frank Coraci        Around the World in 80 Days  2004\n",
            "7     Frank Coraci        Around the World in 80 Days  2004\n",
            "8    Griffin Dunne             The Accidental Husband  2008\n",
            "9    Griffin Dunne             The Accidental Husband  2008\n"
          ],
          "name": "stdout"
        }
      ]
    },
    {
      "cell_type": "markdown",
      "metadata": {
        "colab_type": "text",
        "id": "Za5ejpNI-QNl"
      },
      "source": [
        "## 2. List the names of all the actors who played in the movie 'Anand' (1971)"
      ]
    },
    {
      "cell_type": "code",
      "metadata": {
        "colab_type": "code",
        "id": "onz3AU9ItOQQ",
        "colab": {}
      },
      "source": [
        "#''\n",
        "Movie_Anand_Actors = pd.read_sql_query(\"\"\"\n",
        "\n",
        "                                            WITH\n",
        "                                            \n",
        "                                            MOVIE_ANAND AS\n",
        "                                            (SELECT M.title Movie, MC.PID\n",
        "                                            FROM MOVIE M\n",
        "                                            JOIN M_CAST MC ON M.MID = MC.MID\n",
        "                                            WHERE M.title = 'Anand')\n",
        "                                           \n",
        "                                            SELECT DISTINCT TRIM(P.NAME) Actors\n",
        "                                            FROM MOVIE_ANAND MA\n",
        "                                            JOIN PERSON P ON TRIM(P.PID) = TRIM(MA.PID)\n",
        "                                          \"\"\", con)"
      ],
      "execution_count": 0,
      "outputs": []
    },
    {
      "cell_type": "code",
      "metadata": {
        "colab_type": "code",
        "id": "ldDH5ibMv2_I",
        "outputId": "c4046b85-aa7f-464f-9f46-d260ca665f98",
        "colab": {
          "base_uri": "https://localhost:8080/",
          "height": 391
        }
      },
      "source": [
        "print(\"\\nList of all actors who played in the movie Ananda (1971):\")\n",
        "print('-'*58, '\\n')\n",
        "print(Movie_Anand_Actors)"
      ],
      "execution_count": 0,
      "outputs": [
        {
          "output_type": "stream",
          "text": [
            "\n",
            "List of all actors who played in the movie Ananda (1971):\n",
            "---------------------------------------------------------- \n",
            "\n",
            "              Actors\n",
            "0   Amitabh Bachchan\n",
            "1      Rajesh Khanna\n",
            "2      Sumita Sanyal\n",
            "3         Ramesh Deo\n",
            "4          Seema Deo\n",
            "5     Asit Kumar Sen\n",
            "6         Dev Kishan\n",
            "7       Atam Prakash\n",
            "8      Lalita Kumari\n",
            "9             Savita\n",
            "10    Brahm Bhardwaj\n",
            "11      Gurnam Singh\n",
            "12      Lalita Pawar\n",
            "13       Durga Khote\n",
            "14        Dara Singh\n",
            "15     Johnny Walker\n",
            "16         Moolchand\n"
          ],
          "name": "stdout"
        }
      ]
    },
    {
      "cell_type": "code",
      "metadata": {
        "colab_type": "code",
        "id": "blQLtBvgAhT8",
        "colab": {}
      },
      "source": [
        "## 3) List all the actors who acted in a film before 1970 and in a film after 1990. (That is: < 1970 and > 1990.)"
      ],
      "execution_count": 0,
      "outputs": []
    },
    {
      "cell_type": "code",
      "metadata": {
        "colab_type": "code",
        "id": "PhoH4uIiBcKS",
        "colab": {}
      },
      "source": [
        "Actors_1970_1990 = pd.read_sql_query(\"\"\"\n",
        "\n",
        "                                    WITH\n",
        "                                    \n",
        "                                    Actors_Before_1970 AS\n",
        "                                    (SELECT DISTINCT TRIM(MC.PID) PID\n",
        "                                    FROM MOVIE M\n",
        "                                    JOIN M_CAST MC ON M.MID = MC.MID\n",
        "                                    WHERE CAST(SUBSTR(M.year,-4) AS UNASSIGNED) < 1970),\n",
        "                                    \n",
        "                                    Actors_After_1990 AS\n",
        "                                    (SELECT DISTINCT TRIM(MC.PID) PID\n",
        "                                    FROM MOVIE M\n",
        "                                    JOIN M_CAST MC ON M.MID = MC.MID\n",
        "                                    WHERE CAST(SUBSTR(M.year,-4) AS UNASSIGNED) > 1990),\n",
        "                                    \n",
        "                                    ACTORS AS\n",
        "                                    (SELECT A_1970.PID PID\n",
        "                                    FROM Actors_Before_1970 A_1970\n",
        "                                    JOIN Actors_After_1990 A_1990 ON A_1970.PID = A_1990.PID)\n",
        "                                    \n",
        "                                    SELECT DISTINCT TRIM(P.NAME) Actors_Before_1970_After_1990\n",
        "                                    FROM PERSON P\n",
        "                                    JOIN ACTORS A ON A.PID = TRIM(P.PID)\n",
        "                                    \n",
        "                                    \"\"\", con)"
      ],
      "execution_count": 0,
      "outputs": []
    },
    {
      "cell_type": "code",
      "metadata": {
        "colab_type": "code",
        "id": "UZFMkOHsxVNI",
        "outputId": "f81b54c8-0312-4421-9c6f-f4db99184364",
        "colab": {
          "base_uri": "https://localhost:8080/",
          "height": 1000
        }
      },
      "source": [
        "print(\"\\nActors who worked in movies before 1970 and after 1990:\")\n",
        "print('-'*55, '\\n')\n",
        "print(Actors_1970_1990)"
      ],
      "execution_count": 0,
      "outputs": [
        {
          "output_type": "stream",
          "text": [
            "\n",
            "Actors who worked in movies before 1970 and after 1990:\n",
            "------------------------------------------------------- \n",
            "\n",
            "    Actors_Before_1970_After_1990\n",
            "0                    Rishi Kapoor\n",
            "1                Amitabh Bachchan\n",
            "2                          Asrani\n",
            "3                    Zohra Sehgal\n",
            "4                 Parikshat Sahni\n",
            "..                            ...\n",
            "295                        Poonam\n",
            "296                 Jamila Massey\n",
            "297                   K.R. Vijaya\n",
            "298                         Sethi\n",
            "299                  Suryakantham\n",
            "\n",
            "[300 rows x 1 columns]\n"
          ],
          "name": "stdout"
        }
      ]
    },
    {
      "cell_type": "code",
      "metadata": {
        "colab_type": "code",
        "id": "COaf9ygCeoyH",
        "colab": {}
      },
      "source": [
        "## 4. List all directors who directed 10 movies or more, in descending order of the number of movies they directed. Return the directors' names and the number of movies each of them directed."
      ],
      "execution_count": 0,
      "outputs": []
    },
    {
      "cell_type": "code",
      "metadata": {
        "colab_type": "code",
        "id": "NjDCvkB4mTVD",
        "colab": {}
      },
      "source": [
        "Directors_Movies_More_Than_10 = pd.read_sql_query(\"\"\"\n",
        "\n",
        "                                                    SELECT DISTINCT TRIM(P.Name) Directors, COUNT(DISTINCT MD.MID) Movie_Count\n",
        "                                                    FROM PERSON P\n",
        "                                                    JOIN M_DIRECTOR MD ON TRIM(P.PID) = TRIM(MD.PID)                                                    \n",
        "                                                    GROUP BY Directors\n",
        "                                                    HAVING Movie_Count >= 10\n",
        "                                                    ORDER BY Movie_Count DESC\n",
        "                                    \n",
        "\n",
        "                                                \"\"\", con)"
      ],
      "execution_count": 0,
      "outputs": []
    },
    {
      "cell_type": "code",
      "metadata": {
        "colab_type": "code",
        "id": "GEn1J6bC0lvZ",
        "outputId": "447326f8-feb9-4158-fd69-9fd734774640",
        "colab": {
          "base_uri": "https://localhost:8080/",
          "height": 1000
        }
      },
      "source": [
        "print(\"\\nList of all directors who directed 10 or more movies:\")\n",
        "print('-'*69, '\\n')\n",
        "print(Directors_Movies_More_Than_10)"
      ],
      "execution_count": 0,
      "outputs": [
        {
          "output_type": "stream",
          "text": [
            "\n",
            "List of all directors who directed 10 or more movies:\n",
            "--------------------------------------------------------------------- \n",
            "\n",
            "                   Directors  Movie_Count\n",
            "0               David Dhawan           39\n",
            "1               Mahesh Bhatt           36\n",
            "2               Priyadarshan           30\n",
            "3            Ram Gopal Varma           30\n",
            "4               Vikram Bhatt           29\n",
            "5       Hrishikesh Mukherjee           27\n",
            "6                Yash Chopra           21\n",
            "7            Basu Chatterjee           19\n",
            "8             Shakti Samanta           19\n",
            "9               Subhash Ghai           18\n",
            "10  Abbas Alibhai Burmawalla           17\n",
            "11         Rama Rao Tatineni           17\n",
            "12             Shyam Benegal           17\n",
            "13                    Gulzar           16\n",
            "14            Manmohan Desai           16\n",
            "15              Raj N. Sippy           16\n",
            "16          Mahesh Manjrekar           15\n",
            "17                Raj Kanwar           15\n",
            "18               Indra Kumar           14\n",
            "19              Rahul Rawail           14\n",
            "20                Raj Khosla           14\n",
            "21         Rajkumar Santoshi           14\n",
            "22  Ananth Narayan Mahadevan           13\n",
            "23            Anurag Kashyap           13\n",
            "24                 Dev Anand           13\n",
            "25              Harry Baweja           13\n",
            "26        K. Raghavendra Rao           13\n",
            "27             Rakesh Roshan           13\n",
            "28               Vijay Anand           13\n",
            "29              Anees Bazmee           12\n",
            "30               Anil Sharma           12\n",
            "31              Guddu Dhanoa           12\n",
            "32         Madhur Bhandarkar           12\n",
            "33           Nagesh Kukunoor           12\n",
            "34               Prakash Jha           12\n",
            "35             Prakash Mehra           12\n",
            "36              Rohit Shetty           12\n",
            "37            Satish Kaushik           12\n",
            "38               Umesh Mehra           12\n",
            "39           Govind Nihalani           11\n",
            "40               Ketan Mehta           11\n",
            "41                Mohit Suri           11\n",
            "42             Nasir Hussain           11\n",
            "43        Pramod Chakravorty           11\n",
            "44              Sanjay Gupta           11\n",
            "45                 Bimal Roy           10\n",
            "46              Hansal Mehta           10\n",
            "47             J. Om Prakash           10\n",
            "48                J.P. Dutta           10\n",
            "49                K. Bapaiah           10\n",
            "50       K. Muralimohana Rao           10\n",
            "51               Mehul Kumar           10\n",
            "52                N. Chandra           10\n",
            "53           Pankaj Parashar           10\n",
            "54                Raj Kapoor           10\n",
            "55             Sudhir Mishra           10\n",
            "56          Tigmanshu Dhulia           10\n",
            "57           Vishal Bhardwaj           10\n"
          ],
          "name": "stdout"
        }
      ]
    },
    {
      "cell_type": "code",
      "metadata": {
        "colab_type": "code",
        "id": "MNNG1KNMsgYD",
        "colab": {}
      },
      "source": [
        "## 5.a) For each year, count the number of movies in that year that had only female actors."
      ],
      "execution_count": 0,
      "outputs": []
    },
    {
      "cell_type": "code",
      "metadata": {
        "colab_type": "code",
        "id": "G1nAx4WSsggh",
        "colab": {}
      },
      "source": [
        "Female_Actors = pd.read_sql_query(\"\"\"\n",
        "                                    \n",
        "                                    WITH\n",
        "                                    \n",
        "                                    MOVIE_MALE_NONE AS\n",
        "                                    (SELECT MC.MID MID_F\n",
        "                                    FROM M_CAST MC\n",
        "                                    JOIN PERSON P ON TRIM(P.PID) = TRIM(MC.PID)\n",
        "                                    WHERE TRIM(P.GENDER) IN ('Male', 'None'))\n",
        "                                   \n",
        "                                    SELECT CAST(SUBSTR(M.year,-4) AS UNASSIGNED) Year, COUNT(DISTINCT TRIM(MID)) Female_Movie_Count\n",
        "                                    FROM MOVIE M\n",
        "                                    WHERE TRIM(MID) NOT IN (SELECT MID_F FROM MOVIE_MALE_NONE)\n",
        "                                    GROUP BY CAST(SUBSTR(M.year,-4) AS UNASSIGNED)\n",
        "                                    ORDER BY Year\n",
        "                                    \n",
        "                                   \"\"\", con)"
      ],
      "execution_count": 0,
      "outputs": []
    },
    {
      "cell_type": "code",
      "metadata": {
        "colab_type": "code",
        "id": "qiSY1R31Xb0F",
        "outputId": "431782e8-5ac1-491c-a31b-9c2306e8dbcb",
        "colab": {
          "base_uri": "https://localhost:8080/",
          "height": 204
        }
      },
      "source": [
        "print(\"\\nYearly count of movies which has only female actors:\")\n",
        "print('-'*69, '\\n')\n",
        "print(Female_Actors)"
      ],
      "execution_count": 0,
      "outputs": [
        {
          "output_type": "stream",
          "text": [
            "\n",
            "Yearly count of movies which has only female actors:\n",
            "--------------------------------------------------------------------- \n",
            "\n",
            "   Year  Female_Movie_Count\n",
            "0  1939                   1\n",
            "1  1999                   1\n",
            "2  2000                   1\n",
            "3  2009                   1\n",
            "4  2012                   1\n",
            "5  2018                   2\n"
          ],
          "name": "stdout"
        }
      ]
    },
    {
      "cell_type": "code",
      "metadata": {
        "colab_type": "code",
        "id": "KMLS_mzOkYuk",
        "colab": {}
      },
      "source": [
        "5.\n",
        "b) Now include a small change: report for each year the percentage of movies in that year with only female actors, and the total number of movies made that year. For example, one answer will be: 1990 31.81 13522 meaning that in 1990 there were 13,522 movies, and 31.81% had only female actors. You do not need to round your answer."
      ],
      "execution_count": 0,
      "outputs": []
    },
    {
      "cell_type": "code",
      "metadata": {
        "id": "uZXm8JAbvChA",
        "colab_type": "code",
        "colab": {}
      },
      "source": [
        "Female_Movie_Percentage = pd.read_sql_query(\"\"\"\n",
        "\n",
        "                                            WITH\n",
        "                \n",
        "                                            Movie_Non_Females AS\n",
        "                                            (SELECT DISTINCT TRIM(MC.MID) MID\n",
        "                                            FROM M_CAST MC\n",
        "                                            JOIN PERSON P ON TRIM(MC.PID) = TRIM(P.PID)\n",
        "                                            WHERE TRIM(P.GENDER) IN ('Male','None')),\n",
        "\n",
        "                                            MOVIE_FEMALE_Year AS\n",
        "                                            (SELECT CAST(SUBSTR(M.YEAR,-4) AS UNASSIGNED) YEAR,\n",
        "                                            COUNT(DISTINCT TRIM(MID)) Female_Movie_Only\n",
        "                                            FROM Movie M\n",
        "                                            WHERE TRIM(MID) NOT IN (SELECT MID FROM Movie_Non_Females)\n",
        "                                            GROUP BY CAST(SUBSTR(M.year,-4) AS UNASSIGNED)),\n",
        "\n",
        "                                            MOVIES_YEAR AS\n",
        "                                            (SELECT CAST(SUBSTR(M.YEAR,-4) AS UNASSIGNED) Year,\n",
        "                                            COUNT(DISTINCT TRIM(MID)) Total_Movies\n",
        "                                            FROM MOVIE M\n",
        "                                            GROUP BY CAST(SUBSTR(M.YEAR,-4) AS UNASSIGNED))\n",
        "\n",
        "                                            SELECT MY.YEAR, MY.Total_Movies,\n",
        "                                            ROUND((IFNULL(MF.Female_Movie_Only, 0) * 100)/MY.Total_Movies, 2) Female_Movie_Percentage\n",
        "                                            FROM MOVIES_YEAR MY\n",
        "                                            LEFT OUTER JOIN MOVIE_FEMALE_Year MF ON\n",
        "                                            TRIM(MY.YEAR) = TRIM(MF.YEAR)\n",
        "                                            ORDER BY Female_Movie_Percentage DESC\n",
        "                \n",
        "                                            \"\"\", con)"
      ],
      "execution_count": 0,
      "outputs": []
    },
    {
      "cell_type": "code",
      "metadata": {
        "colab_type": "code",
        "id": "AefCeMyKtnpy",
        "outputId": "47e98293-106c-4fd7-ae06-46ccc3a9b797",
        "colab": {
          "base_uri": "https://localhost:8080/",
          "height": 111
        }
      },
      "source": [
        "print(\"\\nPercentage of movies with only females\")\n",
        "print('-'*38, '\\n')\n",
        "print(Female_Movie_Percentage)"
      ],
      "execution_count": 0,
      "outputs": [
        {
          "output_type": "stream",
          "text": [
            "\n",
            "Percentage of movies with only females\n",
            "-------------------------------------- \n",
            "\n",
            "    Year  Total_Movies  Female_Movie_Percentage\n",
            "0   1939             2                     50.0\n",
            "1   1999            66                      1.0\n",
            "2   2000            64                      1.0\n",
            "3   2018           104                      1.0\n",
            "4   1931             1                      0.0\n",
            "..   ...           ...                      ...\n",
            "73  2013           136                      0.0\n",
            "74  2014           126                      0.0\n",
            "75  2015           119                      0.0\n",
            "76  2016           129                      0.0\n",
            "77  2017           126                      0.0\n",
            "\n",
            "[78 rows x 3 columns]\n"
          ],
          "name": "stdout"
        }
      ]
    },
    {
      "cell_type": "code",
      "metadata": {
        "colab_type": "code",
        "id": "-Mk2na6AvKnK",
        "colab": {}
      },
      "source": [
        "6) Find the film(s) with the largest cast. Return the movie title and the size of the cast. By \"cast size\" we mean the number of distinct actors that played in that movie: if an actor played multiple roles, or if it simply occurs multiple times in casts, we still count her/him only once."
      ],
      "execution_count": 0,
      "outputs": []
    },
    {
      "cell_type": "code",
      "metadata": {
        "colab_type": "code",
        "id": "l54iVdSX3DuL",
        "colab": {}
      },
      "source": [
        "Largest_Cast = pd.read_sql_query(\"\"\"\n",
        "\n",
        "\n",
        "                                    WITH \n",
        "                                    \n",
        "                                    CAST AS\n",
        "                                    (SELECT COUNT(DISTINCT TRIM(MC.PID)) Cast_Count, MC.MID MID\n",
        "                                    FROM M_CAST MC\n",
        "                                    GROUP BY MC.MID)\n",
        "                                    \n",
        "                                    SELECT M.title Movie, C.Cast_Count\n",
        "                                    FROM MOVIE M\n",
        "                                    JOIN CAST C ON C.MID = M.MID\n",
        "                                    ORDER BY Cast_Count DESC\n",
        "                                    LIMIT 1\n",
        "                                    \n",
        "                                  \"\"\", con)"
      ],
      "execution_count": 0,
      "outputs": []
    },
    {
      "cell_type": "code",
      "metadata": {
        "colab_type": "code",
        "id": "EeFzPKFwzipY",
        "outputId": "42f82ec5-8266-42ac-c949-fe4dd4d817f7",
        "colab": {
          "base_uri": "https://localhost:8080/",
          "height": 119
        }
      },
      "source": [
        "print(\"\\nLargest cast movie and count:\")\n",
        "print('-'*29, '\\n')\n",
        "print(Largest_Cast)"
      ],
      "execution_count": 0,
      "outputs": [
        {
          "output_type": "stream",
          "text": [
            "\n",
            "Largest cast movie and count:\n",
            "----------------------------- \n",
            "\n",
            "           Movie  Cast_Count\n",
            "0  Ocean's Eight         238\n"
          ],
          "name": "stdout"
        }
      ]
    },
    {
      "cell_type": "code",
      "metadata": {
        "colab_type": "code",
        "id": "OB6nU_XYqxIu",
        "colab": {}
      },
      "source": [
        " 7) A decade is a sequence of 10 consecutive years. For example, say in your database you have movie information starting from 1965. Then the first decade is 1965, 1966, ..., 1974; the second one is 1967, 1968, ..., 1976 and so on. Find the decade D with the largest number of films and the total number of films in D."
      ],
      "execution_count": 0,
      "outputs": []
    },
    {
      "cell_type": "code",
      "metadata": {
        "colab_type": "code",
        "id": "OfYjnYtidqsh",
        "colab": {}
      },
      "source": [
        "Decade_More_Movies = pd.read_sql_query(\"\"\"\n",
        "\n",
        "\n",
        "                                        WITH \n",
        "            \n",
        "                                        YEARS_UNIQUE AS\n",
        "                                       (SELECT DISTINCT\n",
        "                                        CAST(SUBSTR(year,-4) AS UNSIGNED) YEAR,\n",
        "                                        CAST(SUBSTR(year,-4) AS UNSIGNED) DECADE_START,\n",
        "                                        CAST(SUBSTR(year,-4) AS UNSIGNED) + 9 DECADE_END,\n",
        "                                        'Decade of : ' || SUBSTR(year,-4) DECADE\n",
        "                                        FROM MOVIE),\n",
        "    \n",
        "                                        MOVIE_COUNT_YEARS AS\n",
        "                                       (SELECT COUNT(DISTINCT MID) Movie_Count, CAST(SUBSTR(year,-4) AS UNSIGNED) Year\n",
        "                                        FROM MOVIE\n",
        "                                        GROUP BY CAST(SUBSTR(year,-4) AS UNSIGNED)),\n",
        "    \n",
        "                                        MOVIE_COUNT_DECADE AS \n",
        "                                       (SELECT SUM(Movie_Count) Total_Movies, YU.DECADE\n",
        "                                        FROM MOVIE_COUNT_YEARS MCY, YEARS_UNIQUE YU\n",
        "                                        WHERE MCY.YEAR BETWEEN YU.DECADE_START AND YU.DECADE_END\n",
        "                                        GROUP BY YU.DECADE)\n",
        "    \n",
        "                                        SELECT Decade, Total_Movies\n",
        "                                        FROM MOVIE_COUNT_DECADE\n",
        "                                        WHERE Total_Movies = (SELECT MAX(Total_Movies)\n",
        "                                        FROM MOVIE_COUNT_DECADE)\n",
        "                                        \n",
        "                                        \"\"\", con)"
      ],
      "execution_count": 0,
      "outputs": []
    },
    {
      "cell_type": "code",
      "metadata": {
        "colab_type": "code",
        "id": "CDKEoNMqdrJy",
        "outputId": "3c18922d-2b14-4100-9b53-39cb2ed341d2",
        "colab": {
          "base_uri": "https://localhost:8080/",
          "height": 119
        }
      },
      "source": [
        "print(\"\\nMore movies in decade:\")\n",
        "print('-'*22, '\\n')\n",
        "print(Decade_More_Movies)"
      ],
      "execution_count": 0,
      "outputs": [
        {
          "output_type": "stream",
          "text": [
            "\n",
            "More movies in decade:\n",
            "---------------------- \n",
            "\n",
            "             DECADE  Total_Movies\n",
            "0  Decade of : 2008          1205\n"
          ],
          "name": "stdout"
        }
      ]
    },
    {
      "cell_type": "markdown",
      "metadata": {
        "colab_type": "text",
        "id": "pQeU2ZTxDqED"
      },
      "source": [
        "8) Find the actors that were never unemployed for more than 3 years at a stretch. (Assume that the actors remain unemployed between two consecutive movies)."
      ]
    },
    {
      "cell_type": "code",
      "metadata": {
        "colab_type": "code",
        "id": "HanjWGBtsRmy",
        "colab": {}
      },
      "source": [
        "Actors_Never_Unemployed_More_3 = pd.read_sql_query(\"\"\"\n",
        "\n",
        "                        WITH\n",
        "    \n",
        "                        ACTORS_MOVIE_YEAR AS\n",
        "                        (SELECT TRIM(MC.PID) PID, CAST(SUBSTR(year,-4) AS UNASSIGNED) Year,\n",
        "                        COUNT(DISTINCT TRIM(M.MID)) Number_of_Mov\n",
        "                        FROM M_CAST MC, MOVIE M\n",
        "                        WHERE TRIM(MC.MID) = TRIM(M.MID) \n",
        "                        GROUP BY TRIM(MC.PID), CAST(SUBSTR(year,-4) AS UNASSIGNED)\n",
        "                        ORDER BY NUMBER_OF_MOV DESC),\n",
        "    \n",
        "                        ACTORS_MORE_THAN_YEAR AS\n",
        "                        (SELECT AMY.PID, COUNT(AMY.YEAR) AS Number_of_Years, MIN(AMY.YEAR) AS Min_Year,\n",
        "                        MAX(AMY.YEAR) AS Max_Year\n",
        "                        FROM ACTORS_MOVIE_YEAR AMY\n",
        "                        GROUP BY AMY.PID\n",
        "                        HAVING COUNT(AMY.YEAR) > 1),\n",
        "    \n",
        "                        ACTORS_NUMBER_MORE_THAN_YEAR AS\n",
        "                        (SELECT AMY.PID, AMY.YEAR, AMY.YEAR+4 AS Year_4, AMY.NUMBER_OF_MOV,\n",
        "                        ATY.MIN_YEAR, ATY.MAX_YEAR\n",
        "                        FROM ACTORS_MOVIE_YEAR AMY, ACTORS_MORE_THAN_YEAR ATY\n",
        "                        WHERE AMY.PID = ATY.PID),\n",
        "    \n",
        "                        NUMBER_MOVIE_PRESENT AS\n",
        "                        (SELECT AM.PID, NY.YEAR, SUM(AM.NUMBER_OF_MOV) AS NUMBER_OF_MOVIE_PRESENT\n",
        "                        FROM ACTORS_NUMBER_MORE_THAN_YEAR AM, ACTORS_NUMBER_MORE_THAN_YEAR NY\n",
        "                        WHERE AM.PID = NY.PID AND\n",
        "                        AM.YEAR BETWEEN NY.MIN_YEAR AND NY.YEAR\n",
        "                        GROUP BY AM.PID, NY.YEAR),\n",
        "    \n",
        "                        ACTOR_MOVIE_4_YEAR AS\n",
        "                        (SELECT AM.PID, NY.YEAR, SUM(AM.NUMBER_OF_MOV) AS ACTOR_MOVIE_4_YEARS_PRESENT\n",
        "                        FROM ACTORS_NUMBER_MORE_THAN_YEAR AM, ACTORS_NUMBER_MORE_THAN_YEAR NY\n",
        "                        WHERE AM.PID = NY.PID AND\n",
        "                        AM.YEAR BETWEEN NY.MIN_YEAR AND NY.YEAR_4 AND\n",
        "                        NY.YEAR_4 <= NY.MAX_YEAR\n",
        "                        GROUP BY AM.PID, NY.YEAR)\n",
        "    \n",
        "                        SELECT DISTINCT TRIM(P.NAME) AS ACTORS_NEVER_UNEMPLOYED_MORE_THAN_3_YEARS\n",
        "                        FROM PERSON P\n",
        "                        WHERE TRIM(P.PID) NOT IN (SELECT DISTINCT NMP.PID\n",
        "                        FROM NUMBER_MOVIE_PRESENT NMP, ACTOR_MOVIE_4_YEAR AM_4\n",
        "                        WHERE NMP.PID = AM_4.PID AND\n",
        "                        NMP.YEAR = AM_4.YEAR AND\n",
        "                        NMP.NUMBER_OF_MOVIE_PRESENT = AM_4.ACTOR_MOVIE_4_YEARS_PRESENT)\n",
        "                        \n",
        "                        \n",
        "                        \"\"\", con)"
      ],
      "execution_count": 0,
      "outputs": []
    },
    {
      "cell_type": "code",
      "metadata": {
        "colab_type": "code",
        "id": "OcIOXZvAsRyT",
        "outputId": "ed1e84f2-e173-4213-a08d-a3b9f69bbbd6",
        "colab": {
          "base_uri": "https://localhost:8080/",
          "height": 1000
        }
      },
      "source": [
        "print(\"\\nActors who were never unemployed for more than 3 years at stretch:\")\n",
        "print('-'*70, '\\n')\n",
        "print(Actors_Never_Unemployed_More_3)"
      ],
      "execution_count": 0,
      "outputs": [
        {
          "output_type": "stream",
          "text": [
            "\n",
            "Actors who were never unemployed for more than 3 years at stretch:\n",
            "---------------------------------------------------------------------- \n",
            "\n",
            "      ACTORS_NEVER_UNEMPLOYED_MORE_THAN_3_YEARS\n",
            "0                                Christian Bale\n",
            "1                                Cate Blanchett\n",
            "2                          Benedict Cumberbatch\n",
            "3                                 Naomie Harris\n",
            "4                                   Andy Serkis\n",
            "...                                         ...\n",
            "32580                            Deepak Ramteke\n",
            "32581                              Kamika Verma\n",
            "32582                        Dhorairaj Bhagavan\n",
            "32583                              Nasir Shaikh\n",
            "32584                              Adrian Fulle\n",
            "\n",
            "[32585 rows x 1 columns]\n"
          ],
          "name": "stdout"
        }
      ]
    },
    {
      "cell_type": "markdown",
      "metadata": {
        "colab_type": "text",
        "id": "1dP5oceMEFIx"
      },
      "source": [
        "## 9) Find all the actors that made more movies with Yash Chopra than any other director."
      ]
    },
    {
      "cell_type": "code",
      "metadata": {
        "colab_type": "code",
        "id": "PdygYn6meavn",
        "colab": {}
      },
      "source": [
        "Actors_more_movie_Yash = pd.read_sql_query(\"\"\"\n",
        "\n",
        "                                WITH\n",
        "                                \n",
        "                                YASH_CHOPRA AS\n",
        "                                (SELECT TRIM(P.PID) PID\n",
        "                                FROM PERSON P\n",
        "                                WHERE Trim(P.NAME) = 'Yash Chopra'),\n",
        "                                \n",
        "                                MOVIES_COUNT AS\n",
        "                                (SELECT TRIM(MC.PID) ACTORS, TRIM(MD.PID) DIRECTORS,\n",
        "                                COUNT(DISTINCT TRIM(MD.MID)) MOVIE_COUNT\n",
        "                                FROM M_CAST MC, M_DIRECTOR MD\n",
        "                                WHERE TRIM(MC.MID) = TRIM(MD.MID)\n",
        "                                GROUP BY ACTORS, DIRECTORS),\n",
        "    \n",
        "                                YASH_MOVIE_COUNT AS\n",
        "                                (SELECT CM.ACTORS, CM.DIRECTORS,\n",
        "                                CM.MOVIE_COUNT MOVIE_COUNT_YASH\n",
        "                                FROM MOVIES_COUNT CM, YASH_CHOPRA YC\n",
        "                                WHERE CM.DIRECTORS = YC.PID),\n",
        "    \n",
        "                                OTHER_DIRECTORS AS\n",
        "                                (SELECT ACTORS, MAX(MOVIE_COUNT) MAX_MOVIE_COUNT\n",
        "                                FROM MOVIES_COUNT CM, YASH_CHOPRA YC\n",
        "                                WHERE CM.DIRECTORS <> YC.PID \n",
        "                                GROUP BY ACTORS),\n",
        "    \n",
        "                                ACTORS_MOVIE AS\n",
        "                                (SELECT YM.ACTORS,\n",
        "                                CASE WHEN YM.MOVIE_COUNT_YASH > IFNULL(OD.MAX_MOVIE_COUNT, 0) THEN 'YES' ELSE 'NO' END MAX_YASH_MOVIE\n",
        "                                FROM YASH_MOVIE_COUNT YM\n",
        "                                LEFT OUTER JOIN OTHER_DIRECTORS OD ON YM.ACTORS = OD.ACTORS)\n",
        "    \n",
        "                                SELECT DISTINCT TRIM(P.NAME) NAME_OF_ACTORS\n",
        "                                FROM PERSON P\n",
        "                                WHERE TRIM(P.PID) IN (SELECT DISTINCT ACTORS\n",
        "                                FROM ACTORS_MOVIE\n",
        "                                WHERE MAX_YASH_MOVIE = 'YES')\n",
        "            \n",
        "                                \"\"\", con)"
      ],
      "execution_count": 0,
      "outputs": []
    },
    {
      "cell_type": "code",
      "metadata": {
        "colab_type": "code",
        "id": "fcgSwoiqG0tb",
        "outputId": "97cfb45e-0aa5-4851-89bb-17f2433e0e55",
        "colab": {
          "base_uri": "https://localhost:8080/",
          "height": 1000
        }
      },
      "source": [
        "print(\"\\nActors who worked more in movies directed by Yash:\")\n",
        "print('-'*50, '\\n')\n",
        "print(Actors_more_movie_Yash)"
      ],
      "execution_count": 0,
      "outputs": [
        {
          "output_type": "stream",
          "text": [
            "\n",
            "Actors who worked more in movies directed by Yash:\n",
            "-------------------------------------------------- \n",
            "\n",
            "         NAME_OF_ACTORS\n",
            "0        Waheeda Rehman\n",
            "1        Achala Sachdev\n",
            "2           Yash Chopra\n",
            "3            Vinod Negi\n",
            "4    Chandni Jas Keerat\n",
            "..                  ...\n",
            "100          Yasin Khan\n",
            "101     Sandow S. Sethi\n",
            "102               Naval\n",
            "103           Prem Sood\n",
            "104     Ramlal Shyamlal\n",
            "\n",
            "[105 rows x 1 columns]\n"
          ],
          "name": "stdout"
        }
      ]
    },
    {
      "cell_type": "markdown",
      "metadata": {
        "colab_type": "text",
        "id": "FGlMrVtKHQHH"
      },
      "source": [
        "10) The Shahrukh number of an actor is the length of the shortest path between the actor and Shahrukh Khan in the \"co-acting\" graph. That is, Shahrukh Khan has Shahrukh number 0; all actors who acted in the same film as Shahrukh have Shahrukh number 1; all actors who acted in the same film as some actor with Shahrukh number 1 have Shahrukh number 2, etc. Return all actors whose Shahrukh number is 2."
      ]
    },
    {
      "cell_type": "code",
      "metadata": {
        "colab_type": "code",
        "id": "GcmbucqhVAdj",
        "colab": {}
      },
      "source": [
        "Shahruk_2_Actors = pd.read_sql_query(\"\"\"\n",
        "\n",
        "                        WITH\n",
        "                        \n",
        "                        SHAHRUK_0 AS\n",
        "                        (SELECT TRIM(P.PID) PID\n",
        "                        FROM PERSON P\n",
        "                        WHERE TRIM(P.NAME) like '%Shahrukh%'),\n",
        "                        \n",
        "                        SHAHRUK_1_MOV AS\n",
        "                        (SELECT DISTINCT TRIM(MC.MID) MID, S_0.PID\n",
        "                        FROM SHAHRUK_0 S_0, M_CAST MC\n",
        "                        WHERE TRIM(MC.PID) = S_0.PID),\n",
        "                        \n",
        "                        SHAHRUK_1_ACTS AS\n",
        "                        (SELECT DISTINCT TRIM(MC.PID) PID\n",
        "                        FROM M_CAST MC, SHAHRUK_1_MOV SM_1\n",
        "                        WHERE TRIM(MC.MID) = SM_1.MID AND\n",
        "                        TRIM(MC.PID) <> SM_1.PID),\n",
        "                        \n",
        "                        SHAHRUK_2_MOV AS\n",
        "                        (SELECT DISTINCT TRIM(MC.MID) MID, SA_1.PID\n",
        "                        FROM SHAHRUK_1_ACTS SA_1, M_CAST MC\n",
        "                        WHERE TRIM(MC.PID) = SA_1.PID)\n",
        "                        \n",
        "                        SELECT DISTINCT TRIM(P.NAME) Shahruk_2_Actors\n",
        "                        FROM PERSON P, M_CAST MC, SHAHRUK_2_MOV SM_2\n",
        "                        WHERE TRIM(MC.PID) = TRIM(P.PID) AND\n",
        "                        MC.MID = SM_2.MID AND\n",
        "                        MC.PID <> SM_2.PID\n",
        "                        \n",
        "            \n",
        "                        \"\"\", con)"
      ],
      "execution_count": 0,
      "outputs": []
    },
    {
      "cell_type": "code",
      "metadata": {
        "colab_type": "code",
        "id": "DdXl5KqaX3_G",
        "outputId": "6bfe4378-b1cf-45cc-fbc9-fb4bb2296778",
        "colab": {
          "base_uri": "https://localhost:8080/",
          "height": 1000
        }
      },
      "source": [
        "print(\"\\nActors with Shahruk number 2:\")\n",
        "print('-'*50, '\\n')\n",
        "print(Shahruk_2_Actors)"
      ],
      "execution_count": 0,
      "outputs": [
        {
          "output_type": "stream",
          "text": [
            "\n",
            "Actors with Shahruk number 2:\n",
            "-------------------------------------------------- \n",
            "\n",
            "            Shahruk_2_Actors\n",
            "0               Freida Pinto\n",
            "1      Caroline Christl Long\n",
            "2              Rajeev Pahuja\n",
            "3          Michelle Santiago\n",
            "4             Jandre le Roux\n",
            "...                      ...\n",
            "15283           Dhruv Shetty\n",
            "15284        Hayley Cleghorn\n",
            "15285        Nirvasha Jithoo\n",
            "15286         Kamal Maharshi\n",
            "15287           Mohini Manik\n",
            "\n",
            "[15288 rows x 1 columns]\n"
          ],
          "name": "stdout"
        }
      ]
    },
    {
      "cell_type": "markdown",
      "metadata": {
        "id": "3BwNO6nqvCjD",
        "colab_type": "text"
      },
      "source": [
        "### Source Links\n",
        "\n",
        " - https://www.appliedaicourse.com/   \n",
        " - https://www.w3schools.com/sql/default.asp\n",
        " - https://www.w3resource.com/sql-exercises/movie-database-exercise/joins-exercises-on-movie-database.php"
      ]
    }
  ]
}